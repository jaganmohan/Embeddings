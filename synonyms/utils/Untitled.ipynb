{
 "cells": [
  {
   "cell_type": "code",
   "execution_count": null,
   "metadata": {},
   "outputs": [],
   "source": [
    "import os\n",
    "import numpy as np\n",
    "import csv\n",
    "import collections\n",
    "from itertools import permutations"
   ]
  },
  {
   "cell_type": "code",
   "execution_count": null,
   "metadata": {},
   "outputs": [],
   "source": [
    "filename = \"/data/jazzy/Embeddings/datasets/CIKM/train-item-views.csv\"\n",
    "with open(filename) as f:\n",
    "    reader = csv.reader(f, delimiter=\";\")\n",
    "    sessions = collections.defaultdict(list)\n",
    "    for i,r in enumerate(reader):\n",
    "        if i == 0: continue;\n",
    "        sessions[r[0]].append(r[2])\n",
    "    print(sessions['1'])"
   ]
  },
  {
   "cell_type": "code",
   "execution_count": null,
   "metadata": {},
   "outputs": [],
   "source": [
    "filetxt = \"../data/productseq.txt\"\n",
    "transitive_file = \"../data/items_transitive.tsv\"\n",
    "with open(filetxt, 'w') as f:\n",
    "    for v in sessions.values():\n",
    "        if len(v) > 1:\n",
    "            for i in range(1,len(v)):\n",
    "                [(v[i],v[j]) if for j in range(i)]\n",
    "            f.write('%s\\n' %(' '.join(v)))\n",
    "            "
   ]
  },
  {
   "cell_type": "code",
   "execution_count": null,
   "metadata": {},
   "outputs": [],
   "source": [
    "emb_file = \"../output/product_emb.txt\"\n",
    "prod_categories = \"/data/jazzy/Embeddings/datasets/CIKM/product-categories.csv\"\n",
    "products_file = \"../log/metadata_prod.tsv\"\n",
    "\n",
    "embeddings = np.loadtxt(emb_file)\n",
    "prod_dict = {}\n",
    "rev_prod_dict = {}\n",
    "with open(products_file) as p:\n",
    "    reader = csv.reader(p)\n",
    "    for i,pid in enumerate(reader):\n",
    "        prod_dict[pid[0]] = i\n",
    "        rev_prod_dict[i] = pid[0]\n",
    "prod_cat = {}\n",
    "with open(prod_categories) as cat:\n",
    "    reader = csv.reader(cat, delimiter=\";\")\n",
    "    for pid, cat in reader:\n",
    "        prod_cat[pid] = cat\n",
    "        "
   ]
  },
  {
   "cell_type": "code",
   "execution_count": null,
   "metadata": {},
   "outputs": [],
   "source": [
    "cat = set(prod_cat.values())\n",
    "print(len(cat))\n",
    "print(len(prod_cat))"
   ]
  },
  {
   "cell_type": "code",
   "execution_count": 167,
   "metadata": {},
   "outputs": [
    {
     "name": "stdout",
     "output_type": "stream",
     "text": [
      "Nearest to 13851(822):\n",
      "Item_ID \t Category_ID\n",
      "258398 \t\t 855\n",
      "30395 \t\t 139\n",
      "88173 \t\t 1180\n",
      "80916 \t\t 54\n",
      "35334 \t\t 278\n",
      "172779 \t\t 355\n",
      "13803 \t\t 822\n",
      "36706 \t\t 822\n",
      "90306 \t\t 822\n",
      "1060 \t\t 525\n"
     ]
    }
   ],
   "source": [
    "item_id = '13851'#36602\n",
    "item_emb = embeddings[prod_dict[item_id]]\n",
    "sim = np.matmul(embeddings, item_emb)\n",
    "sim *= -1\n",
    "top_k = 10  # number of nearest neighbors\n",
    "nearest = np.array(sim).argsort()[1:top_k + 1]\n",
    "print('Nearest to %s(%s):' % (item_id,prod_cat[item_id]))\n",
    "print('Item_ID \\t Category_ID')\n",
    "for k in xrange(top_k):\n",
    "    close_word = rev_prod_dict[nearest[k]]\n",
    "    print('%s \\t\\t %s' % (close_word, prod_cat[close_word]))"
   ]
  },
  {
   "cell_type": "code",
   "execution_count": null,
   "metadata": {},
   "outputs": [],
   "source": [
    "from sklearn.neighbors import NearestNeighbors\n",
    "neighbors = NearestNeighbors(n_neighbors=10, metric='euclidean', n_jobs=-1)\n",
    "temp = neighbors.fit(embeddings)"
   ]
  },
  {
   "cell_type": "code",
   "execution_count": 166,
   "metadata": {},
   "outputs": [
    {
     "name": "stdout",
     "output_type": "stream",
     "text": [
      "Nearest to 36602(962):\n",
      "Item_ID \t Category_ID\n",
      "193720 \t\t 474\n",
      "3596 \t\t 962\n",
      "47373 \t\t 962\n",
      "68976 \t\t 962\n",
      "10858 \t\t 962\n",
      "206054 \t\t 199\n",
      "49576 \t\t 581\n",
      "324595 \t\t 132\n",
      "383444 \t\t 633\n",
      "102597 \t\t 1287\n"
     ]
    }
   ],
   "source": [
    "item_id = '36602'\n",
    "item_emb = embeddings[prod_dict[item_id]]\n",
    "top_k = temp.kneighbors([item_emb], 11, return_distance=False)\n",
    "print('Nearest to %s(%s):' % (item_id,prod_cat[item_id]))\n",
    "print('Item_ID \\t Category_ID')\n",
    "for k in top_k[0,1:]:\n",
    "    close_word = rev_prod_dict[k]\n",
    "    print('%s \\t\\t %s' % (close_word, prod_cat[close_word]))\n"
   ]
  },
  {
   "cell_type": "code",
   "execution_count": null,
   "metadata": {},
   "outputs": [],
   "source": [
    "import matplotlib.pyplot as plt\n",
    "from sklearn.manifold import TSNE\n",
    "from matplotlib import offsetbox\n",
    "from mpl_toolkits.mplot3d import Axes3D\n",
    "\n",
    "def plot_with_labels(low_dim_embs, labels, filename):\n",
    "  assert low_dim_embs.shape[0] >= len(labels), 'More labels than embeddings'\n",
    "  fig = plt.figure(figsize=(18, 18))  # in inches\n",
    "  ax = fig.add_subplot(111, projection='3d')\n",
    "\n",
    "  num_cat = len(set(prod_cat.values()))\n",
    "    \n",
    "  for i, label in enumerate(labels):\n",
    "    if label == 'UNK': continue\n",
    "    x, y, z = low_dim_embs[i, :]\n",
    "    ax.scatter(x, y, z, color=plt.cm.gist_ncar((int(prod_cat[label])) / (num_cat * 1.)))\n",
    "    #ax.text(x, y, z,\n",
    "        #prod_cat[label],#label,\n",
    "        #xytext=(5, 2),\n",
    "        #textcoords='offset points',\n",
    "        #zorder = 1,)\n",
    "        #color=plt.cm.gist_ncar((int(prod_cat[label])) / (num_cat * 1.)))\n",
    "        #ha='right',\n",
    "        #va='bottom',\n",
    "        \n",
    "\n",
    "  plt.savefig(filename)\n",
    "\n",
    "def runTSNE(embeddings, reverse_dictionary, tsneimg_file):\n",
    "    tsne = TSNE(\n",
    "      perplexity=30, n_components=3, init='pca', n_iter=5000, method='exact')\n",
    "    plot_only = 500\n",
    "    low_dim_embs = tsne.fit_transform(embeddings[:plot_only, :])\n",
    "    labels = [reverse_dictionary[i] for i in xrange(plot_only)]\n",
    "    plot_with_labels(low_dim_embs, labels, os.path.join(os.getcwd(), tsneimg_file))\n",
    "    \n",
    "runTSNE(embeddings, rev_prod_dict, \"tsne_prod.png\")"
   ]
  },
  {
   "cell_type": "code",
   "execution_count": null,
   "metadata": {},
   "outputs": [],
   "source": [
    "print(prod_cat['36411'])\n",
    "print(prod_cat['7100'])\n",
    "print(prod_cat['6080'])"
   ]
  }
 ],
 "metadata": {
  "kernelspec": {
   "display_name": "Python 2",
   "language": "python",
   "name": "python2"
  },
  "language_info": {
   "codemirror_mode": {
    "name": "ipython",
    "version": 2
   },
   "file_extension": ".py",
   "mimetype": "text/x-python",
   "name": "python",
   "nbconvert_exporter": "python",
   "pygments_lexer": "ipython2",
   "version": "2.7.15"
  }
 },
 "nbformat": 4,
 "nbformat_minor": 2
}
